{
  "nbformat": 4,
  "nbformat_minor": 0,
  "metadata": {
    "colab": {
      "provenance": [],
      "gpuType": "T4"
    },
    "kernelspec": {
      "name": "python3",
      "display_name": "Python 3"
    },
    "language_info": {
      "name": "python"
    },
    "accelerator": "GPU"
  },
  "cells": [
    {
      "cell_type": "code",
      "source": [
        "# Upgrade packages\n",
        "!pip install --upgrade scipy networkx"
      ],
      "metadata": {
        "id": "n0_fOImZz5v7"
      },
      "execution_count": null,
      "outputs": []
    },
    {
      "cell_type": "code",
      "execution_count": null,
      "metadata": {
        "id": "n1FL_lHZmk1v"
      },
      "outputs": [],
      "source": [
        "import networkx as nx\n",
        "import numpy as np\n",
        "import pandas as pd\n"
      ]
    },
    {
      "cell_type": "code",
      "source": [
        "import matplotlib\n",
        "import matplotlib.pyplot as plt\n",
        "%matplotlib inline"
      ],
      "metadata": {
        "id": "4Re9_3gU27qL"
      },
      "execution_count": null,
      "outputs": []
    },
    {
      "cell_type": "markdown",
      "source": [
        "#Loading Graphs in Networkx"
      ],
      "metadata": {
        "id": "A0Hz98J50WN3"
      }
    },
    {
      "cell_type": "code",
      "source": [
        "# Instantiate the graph\n",
        "G1 = nx.Graph()\n",
        "\n",
        "#Adding nodes\n",
        "G1.add_node(1)  # Add a single node\n",
        "G1.add_nodes_from([2, 3, 4])  # Add multiple nodes from a list\n",
        "\n",
        "# Adding edges\n",
        "G1.add_edge(0, 1)  # Add a single edge between nodes 1 and 2\n",
        "G1.add_edges_from([(0, 2), (0, 3), (0, 5), (1, 3), (1, 6), (3, 4), (5, 4), (5, 8), (6, 9), (4, 7), (7, 10), (8, 10)])  # Add multiple edges from a list of tuples\n",
        "#Also knwon as Edgelist\n",
        "\n"
      ],
      "metadata": {
        "id": "q2-ciIHwzYMw"
      },
      "execution_count": null,
      "outputs": []
    },
    {
      "cell_type": "code",
      "source": [
        "G1.nodes(), G1.edges()"
      ],
      "metadata": {
        "colab": {
          "base_uri": "https://localhost:8080/"
        },
        "id": "L_SbMwhx2Pn7",
        "outputId": "341f1768-2a21-4d96-ce52-fe2bdb49a029"
      },
      "execution_count": null,
      "outputs": [
        {
          "output_type": "execute_result",
          "data": {
            "text/plain": [
              "(NodeView((1, 2, 3, 4, 0, 5, 6, 8, 9, 7, 10)),\n",
              " EdgeView([(1, 0), (1, 3), (1, 6), (2, 0), (3, 0), (3, 4), (4, 5), (4, 7), (0, 5), (5, 8), (6, 9), (8, 10), (7, 10)]))"
            ]
          },
          "metadata": {},
          "execution_count": 9
        }
      ]
    },
    {
      "cell_type": "code",
      "source": [
        "print(\"Total number of nodes: \", int(G1.number_of_nodes()))\n",
        "print(\"Total number of edges: \", int(G1.number_of_edges()))\n",
        "print(\"List of all nodes: \", list(G1.nodes()))\n",
        "print(\"List of all edges: \", list(G1.edges()))\n"
      ],
      "metadata": {
        "colab": {
          "base_uri": "https://localhost:8080/"
        },
        "id": "-DPe2k9c0P-r",
        "outputId": "b96951ba-6a0d-48a8-dbff-916aef49fffc"
      },
      "execution_count": null,
      "outputs": [
        {
          "output_type": "stream",
          "name": "stdout",
          "text": [
            "Total number of nodes:  11\n",
            "Total number of edges:  13\n",
            "List of all nodes:  [1, 2, 3, 4, 0, 5, 6, 8, 9, 7, 10]\n",
            "List of all edges:  [(1, 0), (1, 3), (1, 6), (2, 0), (3, 0), (3, 4), (4, 5), (4, 7), (0, 5), (5, 8), (6, 9), (8, 10), (7, 10)]\n"
          ]
        }
      ]
    },
    {
      "cell_type": "markdown",
      "source": [
        "#Edgelist\n",
        "\n",
        "The edge list format represents edge pairings in the first two columns. Looking at `G_edgelist.txt` this is the same as the original graph `G1`\n",
        "\n",
        "Note: Additional edge attributes can be added in subsequent columns. For example the edge between nodes `0` and `1`, may have a weight of `4`.\n"
      ],
      "metadata": {
        "id": "pHvkITFV0nmc"
      }
    },
    {
      "cell_type": "markdown",
      "source": [
        "Using `read_edgelist` and passing in a list of tuples we will create a graph.\n"
      ],
      "metadata": {
        "id": "arAU4-3U1pGa"
      }
    },
    {
      "cell_type": "code",
      "source": [
        "G4 = nx.read_edgelist('G_edgelist.txt', nodetype=int)\n",
        "\n",
        "G4.edges()"
      ],
      "metadata": {
        "colab": {
          "base_uri": "https://localhost:8080/"
        },
        "id": "THd3t3gH11LZ",
        "outputId": "b491e1ef-a381-476d-8392-0f8d0d66f7ce"
      },
      "execution_count": null,
      "outputs": [
        {
          "output_type": "execute_result",
          "data": {
            "text/plain": [
              "EdgeView([(0, 1), (0, 2), (0, 3), (0, 5), (1, 3), (1, 6), (3, 4), (5, 4), (5, 8), (6, 9), (4, 7), (7, 10), (8, 10)])"
            ]
          },
          "metadata": {},
          "execution_count": 64
        }
      ]
    },
    {
      "cell_type": "markdown",
      "source": [
        "\n",
        "\n",
        "##Adjacency list"
      ],
      "metadata": {
        "id": "Mr8iKWMy3KqE"
      }
    },
    {
      "cell_type": "markdown",
      "source": [
        "G_adjlist.txt is the adjaceny list representation of G1.\n",
        "\n",
        "It can be read as follows:\n",
        "* `0 1 2 3 5` $\\rightarrow$ node `0` is adjacent to nodes `1, 2, 3, 5`\n",
        "* `1 3 6` $\\rightarrow$ node `1` is (also) adjacent to nodes `3, 6`\n",
        "* `2` $\\rightarrow$ node `2` is (also) adjacent to no new nodes\n",
        "* `3 4` $\\rightarrow$ node `3` is (also) adjacent to node `4`\n",
        "\n",
        "and so on. Note that adjacencies are only accounted for once (e.g. node `2` is adjacent to node `0`, but node `0` is not listed in node `2`'s row, because that edge has already been accounted for in node `0`'s row).\n",
        "*italicized text*"
      ],
      "metadata": {
        "id": "HzjozjQ43S5s"
      }
    },
    {
      "cell_type": "code",
      "source": [
        "!cat G_adjlist.txt\n"
      ],
      "metadata": {
        "id": "ooaXVrLE3KBP",
        "colab": {
          "base_uri": "https://localhost:8080/"
        },
        "outputId": "f491bb26-f3c8-4183-bccc-55d0207d4569"
      },
      "execution_count": null,
      "outputs": [
        {
          "output_type": "stream",
          "name": "stdout",
          "text": [
            "0 1 2 3 5\r\n",
            "1 3 6\r\n",
            "2\r\n",
            "3 4\r\n",
            "4 5 7\r\n",
            "5 8\r\n",
            "6 9\r\n",
            "7 10\r\n",
            "8 10\r\n",
            "9\r\n",
            "10\r\n"
          ]
        }
      ]
    },
    {
      "cell_type": "markdown",
      "source": [
        "If we read in the adjacency list using `nx.read_adjlist`, we can see that it matches `G1`."
      ],
      "metadata": {
        "id": "iOJELRQudUVv"
      }
    },
    {
      "cell_type": "code",
      "source": [
        "G2 = nx.read_adjlist('G_adjlist.txt', nodetype=int)\n",
        "G2.edges()"
      ],
      "metadata": {
        "colab": {
          "base_uri": "https://localhost:8080/"
        },
        "id": "2KcIiLHkdcS8",
        "outputId": "661ff342-62aa-41a0-956b-0a6641cb71c9"
      },
      "execution_count": null,
      "outputs": [
        {
          "output_type": "execute_result",
          "data": {
            "text/plain": [
              "EdgeView([(0, 1), (0, 2), (0, 3), (0, 5), (1, 3), (1, 6), (3, 4), (5, 4), (5, 8), (6, 9), (4, 7), (7, 10), (8, 10)])"
            ]
          },
          "metadata": {},
          "execution_count": 12
        }
      ]
    },
    {
      "cell_type": "markdown",
      "source": [
        "#Adjacency matrix"
      ],
      "metadata": {
        "id": "ktWVsf-1ei5S"
      }
    },
    {
      "cell_type": "markdown",
      "source": [
        "The elements in an adjacency matrix indicate whether pairs of vertices are adjacent or not in the graph. Each node has a corresponding row and column. For example, row `0`, column `1` corresponds to the edge between node `0` and node `1`.  \n",
        "\n",
        "Reading across row `0`, there is a '`1`' in columns `1`, `2`, `3`, and `5`, which indicates that node `0` is adjacent to nodes 1, 2, 3, and 5"
      ],
      "metadata": {
        "id": "M0JMDO2-euGg"
      }
    },
    {
      "cell_type": "code",
      "source": [
        "G_mat = np.array([\n",
        "    [0, 1, 1, 1, 0, 1, 0, 0, 0, 0, 0],\n",
        "    [1, 0, 0, 1, 0, 0, 1, 0, 0, 0, 0],\n",
        "    [1, 0, 0, 0, 0, 0, 0, 0, 0, 0, 0],\n",
        "    [1, 1, 0, 0, 1, 0, 0, 0, 0, 0, 0],\n",
        "    [0, 0, 0, 1, 0, 1, 0, 1, 0, 0, 0],\n",
        "    [1, 0, 0, 0, 1, 0, 0, 0, 1, 0, 0],\n",
        "    [0, 1, 0, 0, 0, 0, 0, 0, 0, 1, 0],\n",
        "    [0, 0, 0, 0, 1, 0, 0, 0, 0, 0, 1],\n",
        "    [0, 0, 0, 0, 0, 1, 0, 0, 0, 0, 1],\n",
        "    [0, 0, 0, 0, 0, 0, 1, 0, 0, 0, 0],\n",
        "    [0, 0, 0, 0, 0, 0, 0, 1, 1, 0, 0]\n",
        "])"
      ],
      "metadata": {
        "id": "g4s25ys_es-r"
      },
      "execution_count": null,
      "outputs": []
    },
    {
      "cell_type": "markdown",
      "source": [
        "If we convert the adjacency matrix to a networkx graph using `nx.Graph`, we can see that it matches G1.\n"
      ],
      "metadata": {
        "id": "zUykFnF4gFNd"
      }
    },
    {
      "cell_type": "code",
      "source": [
        "G3 = nx.Graph(G_mat)\n",
        "G3.edges()"
      ],
      "metadata": {
        "colab": {
          "base_uri": "https://localhost:8080/"
        },
        "id": "7wlzGugyf4eW",
        "outputId": "4cf56804-7a05-43fd-8ee6-a1b2fc88b823"
      },
      "execution_count": null,
      "outputs": [
        {
          "output_type": "execute_result",
          "data": {
            "text/plain": [
              "EdgeView([(0, 1), (0, 2), (0, 3), (0, 5), (1, 3), (1, 6), (3, 4), (4, 5), (4, 7), (5, 8), (6, 9), (7, 10), (8, 10)])"
            ]
          },
          "metadata": {},
          "execution_count": 27
        }
      ]
    },
    {
      "cell_type": "markdown",
      "source": [
        "*How to print the adjaceny matrix of a graph?*\n",
        "\n",
        "---\n",
        "\n"
      ],
      "metadata": {
        "id": "PSUeKpmdhmo7"
      }
    },
    {
      "cell_type": "markdown",
      "source": [
        "#Pandas Dataframe"
      ],
      "metadata": {
        "id": "aW-qjxostmUE"
      }
    },
    {
      "cell_type": "markdown",
      "source": [
        "Graphs can also be created from pandas dataframes if they are in edge list format.\n",
        "\n"
      ],
      "metadata": {
        "id": "AYWbKQtjttbI"
      }
    },
    {
      "cell_type": "markdown",
      "source": [
        "From a `.*csv*` file"
      ],
      "metadata": {
        "id": "cfA_6_9DywwF"
      }
    },
    {
      "cell_type": "code",
      "source": [
        "# Read the CSV file into a pandas DataFrame\n",
        "df = pd.read_csv('G_edgelist.csv')\n",
        "\n",
        "# Create an undirected graph from the DataFrame\n",
        "G_csv = nx.from_pandas_edgelist(df, source='source', target='target')\n",
        "\n",
        "G_csv.edges()"
      ],
      "metadata": {
        "colab": {
          "base_uri": "https://localhost:8080/"
        },
        "id": "UgRvT1P0yUSO",
        "outputId": "a801ef0c-52b7-4123-a988-21664d1a2258"
      },
      "execution_count": null,
      "outputs": [
        {
          "output_type": "execute_result",
          "data": {
            "text/plain": [
              "EdgeView([(0, 1), (0, 2), (0, 3), (0, 5), (1, 3), (1, 6), (3, 4), (5, 4), (5, 8), (6, 9), (4, 7), (7, 10), (8, 10)])"
            ]
          },
          "metadata": {},
          "execution_count": 57
        }
      ]
    },
    {
      "cell_type": "markdown",
      "source": [
        "From a `.*txt*` file"
      ],
      "metadata": {
        "id": "TPQBfDC2y-t3"
      }
    },
    {
      "cell_type": "code",
      "source": [
        "G_df = pd.read_csv('G_edgelist.txt', delim_whitespace=True,\n",
        "                   header=None, names=['n1', 'n2'])\n",
        "G_df"
      ],
      "metadata": {
        "colab": {
          "base_uri": "https://localhost:8080/",
          "height": 513
        },
        "id": "rzyEvWUutl8i",
        "outputId": "82d8ef77-1045-4271-a44b-3e6a2b7154e4"
      },
      "execution_count": null,
      "outputs": [
        {
          "output_type": "stream",
          "name": "stderr",
          "text": [
            "<ipython-input-58-168ac0c164fa>:1: FutureWarning: The 'delim_whitespace' keyword in pd.read_csv is deprecated and will be removed in a future version. Use ``sep='\\s+'`` instead\n",
            "  G_df = pd.read_csv('G_edgelist.txt', delim_whitespace=True,\n"
          ]
        },
        {
          "output_type": "execute_result",
          "data": {
            "text/plain": [
              "   n1  n2\n",
              "0   1   7\n",
              "0   2   3\n",
              "0   3   9\n",
              "0   5   2\n",
              "1   3   5\n",
              "1   6   8\n",
              "3   4   6\n",
              "4   5   1\n",
              "4   7   4\n",
              "5   8  10\n",
              "6   9   3\n",
              "7  10   7\n",
              "8  10   5"
            ],
            "text/html": [
              "\n",
              "  <div id=\"df-c1252461-31b2-445c-a26b-d26da8804a26\" class=\"colab-df-container\">\n",
              "    <div>\n",
              "<style scoped>\n",
              "    .dataframe tbody tr th:only-of-type {\n",
              "        vertical-align: middle;\n",
              "    }\n",
              "\n",
              "    .dataframe tbody tr th {\n",
              "        vertical-align: top;\n",
              "    }\n",
              "\n",
              "    .dataframe thead th {\n",
              "        text-align: right;\n",
              "    }\n",
              "</style>\n",
              "<table border=\"1\" class=\"dataframe\">\n",
              "  <thead>\n",
              "    <tr style=\"text-align: right;\">\n",
              "      <th></th>\n",
              "      <th>n1</th>\n",
              "      <th>n2</th>\n",
              "    </tr>\n",
              "  </thead>\n",
              "  <tbody>\n",
              "    <tr>\n",
              "      <th>0</th>\n",
              "      <td>1</td>\n",
              "      <td>7</td>\n",
              "    </tr>\n",
              "    <tr>\n",
              "      <th>0</th>\n",
              "      <td>2</td>\n",
              "      <td>3</td>\n",
              "    </tr>\n",
              "    <tr>\n",
              "      <th>0</th>\n",
              "      <td>3</td>\n",
              "      <td>9</td>\n",
              "    </tr>\n",
              "    <tr>\n",
              "      <th>0</th>\n",
              "      <td>5</td>\n",
              "      <td>2</td>\n",
              "    </tr>\n",
              "    <tr>\n",
              "      <th>1</th>\n",
              "      <td>3</td>\n",
              "      <td>5</td>\n",
              "    </tr>\n",
              "    <tr>\n",
              "      <th>1</th>\n",
              "      <td>6</td>\n",
              "      <td>8</td>\n",
              "    </tr>\n",
              "    <tr>\n",
              "      <th>3</th>\n",
              "      <td>4</td>\n",
              "      <td>6</td>\n",
              "    </tr>\n",
              "    <tr>\n",
              "      <th>4</th>\n",
              "      <td>5</td>\n",
              "      <td>1</td>\n",
              "    </tr>\n",
              "    <tr>\n",
              "      <th>4</th>\n",
              "      <td>7</td>\n",
              "      <td>4</td>\n",
              "    </tr>\n",
              "    <tr>\n",
              "      <th>5</th>\n",
              "      <td>8</td>\n",
              "      <td>10</td>\n",
              "    </tr>\n",
              "    <tr>\n",
              "      <th>6</th>\n",
              "      <td>9</td>\n",
              "      <td>3</td>\n",
              "    </tr>\n",
              "    <tr>\n",
              "      <th>7</th>\n",
              "      <td>10</td>\n",
              "      <td>7</td>\n",
              "    </tr>\n",
              "    <tr>\n",
              "      <th>8</th>\n",
              "      <td>10</td>\n",
              "      <td>5</td>\n",
              "    </tr>\n",
              "  </tbody>\n",
              "</table>\n",
              "</div>\n",
              "    <div class=\"colab-df-buttons\">\n",
              "\n",
              "  <div class=\"colab-df-container\">\n",
              "    <button class=\"colab-df-convert\" onclick=\"convertToInteractive('df-c1252461-31b2-445c-a26b-d26da8804a26')\"\n",
              "            title=\"Convert this dataframe to an interactive table.\"\n",
              "            style=\"display:none;\">\n",
              "\n",
              "  <svg xmlns=\"http://www.w3.org/2000/svg\" height=\"24px\" viewBox=\"0 -960 960 960\">\n",
              "    <path d=\"M120-120v-720h720v720H120Zm60-500h600v-160H180v160Zm220 220h160v-160H400v160Zm0 220h160v-160H400v160ZM180-400h160v-160H180v160Zm440 0h160v-160H620v160ZM180-180h160v-160H180v160Zm440 0h160v-160H620v160Z\"/>\n",
              "  </svg>\n",
              "    </button>\n",
              "\n",
              "  <style>\n",
              "    .colab-df-container {\n",
              "      display:flex;\n",
              "      gap: 12px;\n",
              "    }\n",
              "\n",
              "    .colab-df-convert {\n",
              "      background-color: #E8F0FE;\n",
              "      border: none;\n",
              "      border-radius: 50%;\n",
              "      cursor: pointer;\n",
              "      display: none;\n",
              "      fill: #1967D2;\n",
              "      height: 32px;\n",
              "      padding: 0 0 0 0;\n",
              "      width: 32px;\n",
              "    }\n",
              "\n",
              "    .colab-df-convert:hover {\n",
              "      background-color: #E2EBFA;\n",
              "      box-shadow: 0px 1px 2px rgba(60, 64, 67, 0.3), 0px 1px 3px 1px rgba(60, 64, 67, 0.15);\n",
              "      fill: #174EA6;\n",
              "    }\n",
              "\n",
              "    .colab-df-buttons div {\n",
              "      margin-bottom: 4px;\n",
              "    }\n",
              "\n",
              "    [theme=dark] .colab-df-convert {\n",
              "      background-color: #3B4455;\n",
              "      fill: #D2E3FC;\n",
              "    }\n",
              "\n",
              "    [theme=dark] .colab-df-convert:hover {\n",
              "      background-color: #434B5C;\n",
              "      box-shadow: 0px 1px 3px 1px rgba(0, 0, 0, 0.15);\n",
              "      filter: drop-shadow(0px 1px 2px rgba(0, 0, 0, 0.3));\n",
              "      fill: #FFFFFF;\n",
              "    }\n",
              "  </style>\n",
              "\n",
              "    <script>\n",
              "      const buttonEl =\n",
              "        document.querySelector('#df-c1252461-31b2-445c-a26b-d26da8804a26 button.colab-df-convert');\n",
              "      buttonEl.style.display =\n",
              "        google.colab.kernel.accessAllowed ? 'block' : 'none';\n",
              "\n",
              "      async function convertToInteractive(key) {\n",
              "        const element = document.querySelector('#df-c1252461-31b2-445c-a26b-d26da8804a26');\n",
              "        const dataTable =\n",
              "          await google.colab.kernel.invokeFunction('convertToInteractive',\n",
              "                                                    [key], {});\n",
              "        if (!dataTable) return;\n",
              "\n",
              "        const docLinkHtml = 'Like what you see? Visit the ' +\n",
              "          '<a target=\"_blank\" href=https://colab.research.google.com/notebooks/data_table.ipynb>data table notebook</a>'\n",
              "          + ' to learn more about interactive tables.';\n",
              "        element.innerHTML = '';\n",
              "        dataTable['output_type'] = 'display_data';\n",
              "        await google.colab.output.renderOutput(dataTable, element);\n",
              "        const docLink = document.createElement('div');\n",
              "        docLink.innerHTML = docLinkHtml;\n",
              "        element.appendChild(docLink);\n",
              "      }\n",
              "    </script>\n",
              "  </div>\n",
              "\n",
              "\n",
              "    <div id=\"df-4933ce53-6e6f-46e1-b4a4-1fc9f174ccde\">\n",
              "      <button class=\"colab-df-quickchart\" onclick=\"quickchart('df-4933ce53-6e6f-46e1-b4a4-1fc9f174ccde')\"\n",
              "                title=\"Suggest charts\"\n",
              "                style=\"display:none;\">\n",
              "\n",
              "<svg xmlns=\"http://www.w3.org/2000/svg\" height=\"24px\"viewBox=\"0 0 24 24\"\n",
              "     width=\"24px\">\n",
              "    <g>\n",
              "        <path d=\"M19 3H5c-1.1 0-2 .9-2 2v14c0 1.1.9 2 2 2h14c1.1 0 2-.9 2-2V5c0-1.1-.9-2-2-2zM9 17H7v-7h2v7zm4 0h-2V7h2v10zm4 0h-2v-4h2v4z\"/>\n",
              "    </g>\n",
              "</svg>\n",
              "      </button>\n",
              "\n",
              "<style>\n",
              "  .colab-df-quickchart {\n",
              "      --bg-color: #E8F0FE;\n",
              "      --fill-color: #1967D2;\n",
              "      --hover-bg-color: #E2EBFA;\n",
              "      --hover-fill-color: #174EA6;\n",
              "      --disabled-fill-color: #AAA;\n",
              "      --disabled-bg-color: #DDD;\n",
              "  }\n",
              "\n",
              "  [theme=dark] .colab-df-quickchart {\n",
              "      --bg-color: #3B4455;\n",
              "      --fill-color: #D2E3FC;\n",
              "      --hover-bg-color: #434B5C;\n",
              "      --hover-fill-color: #FFFFFF;\n",
              "      --disabled-bg-color: #3B4455;\n",
              "      --disabled-fill-color: #666;\n",
              "  }\n",
              "\n",
              "  .colab-df-quickchart {\n",
              "    background-color: var(--bg-color);\n",
              "    border: none;\n",
              "    border-radius: 50%;\n",
              "    cursor: pointer;\n",
              "    display: none;\n",
              "    fill: var(--fill-color);\n",
              "    height: 32px;\n",
              "    padding: 0;\n",
              "    width: 32px;\n",
              "  }\n",
              "\n",
              "  .colab-df-quickchart:hover {\n",
              "    background-color: var(--hover-bg-color);\n",
              "    box-shadow: 0 1px 2px rgba(60, 64, 67, 0.3), 0 1px 3px 1px rgba(60, 64, 67, 0.15);\n",
              "    fill: var(--button-hover-fill-color);\n",
              "  }\n",
              "\n",
              "  .colab-df-quickchart-complete:disabled,\n",
              "  .colab-df-quickchart-complete:disabled:hover {\n",
              "    background-color: var(--disabled-bg-color);\n",
              "    fill: var(--disabled-fill-color);\n",
              "    box-shadow: none;\n",
              "  }\n",
              "\n",
              "  .colab-df-spinner {\n",
              "    border: 2px solid var(--fill-color);\n",
              "    border-color: transparent;\n",
              "    border-bottom-color: var(--fill-color);\n",
              "    animation:\n",
              "      spin 1s steps(1) infinite;\n",
              "  }\n",
              "\n",
              "  @keyframes spin {\n",
              "    0% {\n",
              "      border-color: transparent;\n",
              "      border-bottom-color: var(--fill-color);\n",
              "      border-left-color: var(--fill-color);\n",
              "    }\n",
              "    20% {\n",
              "      border-color: transparent;\n",
              "      border-left-color: var(--fill-color);\n",
              "      border-top-color: var(--fill-color);\n",
              "    }\n",
              "    30% {\n",
              "      border-color: transparent;\n",
              "      border-left-color: var(--fill-color);\n",
              "      border-top-color: var(--fill-color);\n",
              "      border-right-color: var(--fill-color);\n",
              "    }\n",
              "    40% {\n",
              "      border-color: transparent;\n",
              "      border-right-color: var(--fill-color);\n",
              "      border-top-color: var(--fill-color);\n",
              "    }\n",
              "    60% {\n",
              "      border-color: transparent;\n",
              "      border-right-color: var(--fill-color);\n",
              "    }\n",
              "    80% {\n",
              "      border-color: transparent;\n",
              "      border-right-color: var(--fill-color);\n",
              "      border-bottom-color: var(--fill-color);\n",
              "    }\n",
              "    90% {\n",
              "      border-color: transparent;\n",
              "      border-bottom-color: var(--fill-color);\n",
              "    }\n",
              "  }\n",
              "</style>\n",
              "\n",
              "      <script>\n",
              "        async function quickchart(key) {\n",
              "          const quickchartButtonEl =\n",
              "            document.querySelector('#' + key + ' button');\n",
              "          quickchartButtonEl.disabled = true;  // To prevent multiple clicks.\n",
              "          quickchartButtonEl.classList.add('colab-df-spinner');\n",
              "          try {\n",
              "            const charts = await google.colab.kernel.invokeFunction(\n",
              "                'suggestCharts', [key], {});\n",
              "          } catch (error) {\n",
              "            console.error('Error during call to suggestCharts:', error);\n",
              "          }\n",
              "          quickchartButtonEl.classList.remove('colab-df-spinner');\n",
              "          quickchartButtonEl.classList.add('colab-df-quickchart-complete');\n",
              "        }\n",
              "        (() => {\n",
              "          let quickchartButtonEl =\n",
              "            document.querySelector('#df-4933ce53-6e6f-46e1-b4a4-1fc9f174ccde button');\n",
              "          quickchartButtonEl.style.display =\n",
              "            google.colab.kernel.accessAllowed ? 'block' : 'none';\n",
              "        })();\n",
              "      </script>\n",
              "    </div>\n",
              "\n",
              "  <div id=\"id_0fb536d4-925e-4da0-9cb3-76ef81dcb2a9\">\n",
              "    <style>\n",
              "      .colab-df-generate {\n",
              "        background-color: #E8F0FE;\n",
              "        border: none;\n",
              "        border-radius: 50%;\n",
              "        cursor: pointer;\n",
              "        display: none;\n",
              "        fill: #1967D2;\n",
              "        height: 32px;\n",
              "        padding: 0 0 0 0;\n",
              "        width: 32px;\n",
              "      }\n",
              "\n",
              "      .colab-df-generate:hover {\n",
              "        background-color: #E2EBFA;\n",
              "        box-shadow: 0px 1px 2px rgba(60, 64, 67, 0.3), 0px 1px 3px 1px rgba(60, 64, 67, 0.15);\n",
              "        fill: #174EA6;\n",
              "      }\n",
              "\n",
              "      [theme=dark] .colab-df-generate {\n",
              "        background-color: #3B4455;\n",
              "        fill: #D2E3FC;\n",
              "      }\n",
              "\n",
              "      [theme=dark] .colab-df-generate:hover {\n",
              "        background-color: #434B5C;\n",
              "        box-shadow: 0px 1px 3px 1px rgba(0, 0, 0, 0.15);\n",
              "        filter: drop-shadow(0px 1px 2px rgba(0, 0, 0, 0.3));\n",
              "        fill: #FFFFFF;\n",
              "      }\n",
              "    </style>\n",
              "    <button class=\"colab-df-generate\" onclick=\"generateWithVariable('G_df')\"\n",
              "            title=\"Generate code using this dataframe.\"\n",
              "            style=\"display:none;\">\n",
              "\n",
              "  <svg xmlns=\"http://www.w3.org/2000/svg\" height=\"24px\"viewBox=\"0 0 24 24\"\n",
              "       width=\"24px\">\n",
              "    <path d=\"M7,19H8.4L18.45,9,17,7.55,7,17.6ZM5,21V16.75L18.45,3.32a2,2,0,0,1,2.83,0l1.4,1.43a1.91,1.91,0,0,1,.58,1.4,1.91,1.91,0,0,1-.58,1.4L9.25,21ZM18.45,9,17,7.55Zm-12,3A5.31,5.31,0,0,0,4.9,8.1,5.31,5.31,0,0,0,1,6.5,5.31,5.31,0,0,0,4.9,4.9,5.31,5.31,0,0,0,6.5,1,5.31,5.31,0,0,0,8.1,4.9,5.31,5.31,0,0,0,12,6.5,5.46,5.46,0,0,0,6.5,12Z\"/>\n",
              "  </svg>\n",
              "    </button>\n",
              "    <script>\n",
              "      (() => {\n",
              "      const buttonEl =\n",
              "        document.querySelector('#id_0fb536d4-925e-4da0-9cb3-76ef81dcb2a9 button.colab-df-generate');\n",
              "      buttonEl.style.display =\n",
              "        google.colab.kernel.accessAllowed ? 'block' : 'none';\n",
              "\n",
              "      buttonEl.onclick = () => {\n",
              "        google.colab.notebook.generateWithVariable('G_df');\n",
              "      }\n",
              "      })();\n",
              "    </script>\n",
              "  </div>\n",
              "\n",
              "    </div>\n",
              "  </div>\n"
            ],
            "application/vnd.google.colaboratory.intrinsic+json": {
              "type": "dataframe",
              "variable_name": "G_df",
              "summary": "{\n  \"name\": \"G_df\",\n  \"rows\": 13,\n  \"fields\": [\n    {\n      \"column\": \"n1\",\n      \"properties\": {\n        \"dtype\": \"number\",\n        \"std\": 3,\n        \"min\": 1,\n        \"max\": 10,\n        \"num_unique_values\": 10,\n        \"samples\": [\n          9,\n          2,\n          4\n        ],\n        \"semantic_type\": \"\",\n        \"description\": \"\"\n      }\n    },\n    {\n      \"column\": \"n2\",\n      \"properties\": {\n        \"dtype\": \"number\",\n        \"std\": 2,\n        \"min\": 1,\n        \"max\": 10,\n        \"num_unique_values\": 10,\n        \"samples\": [\n          4,\n          3,\n          8\n        ],\n        \"semantic_type\": \"\",\n        \"description\": \"\"\n      }\n    }\n  ]\n}"
            }
          },
          "metadata": {},
          "execution_count": 58
        }
      ]
    },
    {
      "cell_type": "code",
      "source": [
        "G5 = nx.from_pandas_edgelist(G_df, 'n1', 'n2') # Use from_pandas_edgelist instead of from_pandas_dataframe\n",
        "G5.edges()"
      ],
      "metadata": {
        "colab": {
          "base_uri": "https://localhost:8080/"
        },
        "id": "mw-hPd3xvEX5",
        "outputId": "2306ec0a-6fa5-429e-fa79-b291b7cae60f"
      },
      "execution_count": null,
      "outputs": [
        {
          "output_type": "execute_result",
          "data": {
            "text/plain": [
              "EdgeView([(1, 7), (1, 5), (7, 4), (7, 10), (2, 3), (2, 5), (3, 9), (3, 5), (5, 10), (6, 8), (6, 4), (8, 10)])"
            ]
          },
          "metadata": {},
          "execution_count": 60
        }
      ]
    },
    {
      "cell_type": "code",
      "source": [
        "# Draw the graph G1\n",
        "\n",
        "# Define the layout for visualization\n",
        "pos = nx.spring_layout(G1, seed=42)  # Position the nodes\n",
        "#You can experiment with other layouts like circular_layout, shell_layout, or kamada_kawai_layout to see which best represents your data.\n",
        "\n",
        "\n",
        "# Step 5: Draw the graph\n",
        "nx.draw(G1, pos, with_labels=True, node_color='lightblue', edge_color='gray',\n",
        "        node_size=800, font_weight='bold')\n",
        "\n",
        "# Step 6: Display the graph\n",
        "plt.title(\"Graph G1\")\n",
        "plt.show()\n"
      ],
      "metadata": {
        "colab": {
          "base_uri": "https://localhost:8080/",
          "height": 539
        },
        "id": "HD7B00-hcMBl",
        "outputId": "5cf43c63-84a1-4f49-8e7c-5ac4de89d686"
      },
      "execution_count": null,
      "outputs": [
        {
          "output_type": "display_data",
          "data": {
            "text/plain": [
              "<Figure size 640x480 with 1 Axes>"
            ],
            "image/png": "[encoded data removed]"
          },
          "metadata": {}
        }
      ]
    },
    {
      "cell_type": "markdown",
      "source": [
        "#Directed Graphs"
      ],
      "metadata": {
        "id": "msJj84g2454X"
      }
    },
    {
      "cell_type": "code",
      "source": [
        "# Step 1: Create a directed graph\n",
        "G2 = nx.DiGraph()\n",
        "\n",
        "# Step 2: Add nodes (optional, as adding edges will add nodes automatically)\n",
        "G2.add_nodes_from([1, 2, 3, 4, 5])\n",
        "\n",
        "# Step 3: Add directed edges (arrows go from the first node to the second)\n",
        "G2.add_edge(1, 2)\n",
        "G2.add_edge(2, 3)\n",
        "G2.add_edge(3, 4)\n",
        "G2.add_edge(4, 5)\n",
        "G2.add_edge(5, 1)  # This creates a cycle\n",
        "\n",
        "\n"
      ],
      "metadata": {
        "id": "dUIwGpjM4s9n"
      },
      "execution_count": null,
      "outputs": []
    },
    {
      "cell_type": "code",
      "source": [
        "pos = nx.spring_layout(G2, seed=42)  # Positions for all nodes\n",
        "\n",
        "# Draw the graph\n",
        "nx.draw(G2, pos, with_labels=True, node_color='lightblue', edge_color='gray',\n",
        "        node_size=800, font_weight='bold', arrows=True, arrowsize=20)\n",
        "\n",
        "# Step 6: Display the graph\n",
        "plt.title(\"Directed Graph G2\")\n",
        "plt.show()"
      ],
      "metadata": {
        "colab": {
          "base_uri": "https://localhost:8080/",
          "height": 539
        },
        "id": "hxPB5JfReGDH",
        "outputId": "73f41f1d-9503-4e0f-b3be-dd60eca099c2"
      },
      "execution_count": null,
      "outputs": [
        {
          "output_type": "display_data",
          "data": {
            "text/plain": [
              "<Figure size 640x480 with 1 Axes>"
            ],
            "image/png": "[encoded data removed]"
          },
          "metadata": {}
        }
      ]
    },
    {
      "cell_type": "markdown",
      "source": [
        "#Weighted Graphs"
      ],
      "metadata": {
        "id": "MAJQaJ2L7avg"
      }
    },
    {
      "cell_type": "code",
      "source": [
        "# Step 1: Create an undirected graph\n",
        "G = nx.Graph()\n",
        "\n",
        "# Step 2: Add edges along with their weights\n",
        "G.add_edge('A', 'B', weight=4)\n",
        "\n",
        "# Add multiple weighted edges concisely\n",
        "G.add_weighted_edges_from([\n",
        "    ('A', 'B', 4),\n",
        "    ('A', 'C', 2),\n",
        "    ('B', 'C', 5),\n",
        "    ('B', 'D', 10),\n",
        "    ('C', 'D', 3),\n",
        "    ('D', 'E', 8),\n",
        "    ('E', 'A', 7)\n",
        "])\n",
        "\n",
        "G.edges(data=True)\n"
      ],
      "metadata": {
        "id": "FlNRStQP7f8f",
        "colab": {
          "base_uri": "https://localhost:8080/"
        },
        "outputId": "df2c2b5d-7708-4b4e-cca8-effd292efb8c"
      },
      "execution_count": null,
      "outputs": [
        {
          "output_type": "execute_result",
          "data": {
            "text/plain": [
              "EdgeDataView([('A', 'B', {'weight': 4}), ('A', 'C', {'weight': 2}), ('A', 'E', {'weight': 7}), ('B', 'C', {'weight': 5}), ('B', 'D', {'weight': 10}), ('C', 'D', {'weight': 3}), ('D', 'E', {'weight': 8})])"
            ]
          },
          "metadata": {},
          "execution_count": 49
        }
      ]
    },
    {
      "cell_type": "code",
      "source": [
        "# Draw the graph\n",
        "\n",
        "# Define the layout for visualization\n",
        "pos = nx.spring_layout(G, seed=42)  # Position the nodes\n",
        "#You can experiment with other layouts like circular_layout, shell_layout, or kamada_kawai_layout to see which best represents your data.\n",
        "\n",
        "# Draw nodes and edges\n",
        "nx.draw(G, pos, with_labels=True, node_color='lightblue', edge_color='gray', node_size=800, font_weight='bold')\n",
        "\n",
        "# Draw edge labels (for weights or any attributes)\n",
        "edge_labels = nx.get_edge_attributes(G, 'weight')\n",
        "nx.draw_networkx_edge_labels(G, pos, edge_labels=edge_labels)\n",
        "\n",
        "plt.title(\"Graph G1\")\n",
        "plt.show()"
      ],
      "metadata": {
        "colab": {
          "base_uri": "https://localhost:8080/",
          "height": 539
        },
        "id": "41iydP783Bq7",
        "outputId": "20494468-69be-4330-be7d-6592efb6b137"
      },
      "execution_count": null,
      "outputs": [
        {
          "output_type": "display_data",
          "data": {
            "text/plain": [
              "<Figure size 640x480 with 1 Axes>"
            ],
            "image/png": "[encoded data removed]"
          },
          "metadata": {}
        }
      ]
    },
    {
      "cell_type": "code",
      "source": [
        "#Edge Thickness Proportional to Weight:\n",
        "\n",
        "weights = [G[u][v]['weight'] for u, v in G.edges()]\n",
        "nx.draw(G, pos, with_labels=True, node_color='lightblue', edge_color='gray',\n",
        "        node_size=800, font_weight='bold', width=weights)"
      ],
      "metadata": {
        "colab": {
          "base_uri": "https://localhost:8080/",
          "height": 516
        },
        "id": "Z6lq8m57bi4t",
        "outputId": "342e2b60-a046-4a2e-b94a-eefeaa5ac0ea"
      },
      "execution_count": null,
      "outputs": [
        {
          "output_type": "display_data",
          "data": {
            "text/plain": [
              "<Figure size 640x480 with 1 Axes>"
            ],
            "image/png": "[encoded data removed]"
          },
          "metadata": {}
        }
      ]
    },
    {
      "cell_type": "code",
      "source": [
        "#save figure\n",
        "plt.savefig(\"weighted_graph.png\", dpi=300)\n"
      ],
      "metadata": {
        "colab": {
          "base_uri": "https://localhost:8080/",
          "height": 35
        },
        "id": "c2-u2f_xbwDl",
        "outputId": "33c4ab14-6242-492f-ee9b-625642e9606d"
      },
      "execution_count": null,
      "outputs": [
        {
          "output_type": "display_data",
          "data": {
            "text/plain": [
              "<Figure size 640x480 with 0 Axes>"
            ]
          },
          "metadata": {}
        }
      ]
    },
    {
      "cell_type": "markdown",
      "source": [
        "#Multigraph"
      ],
      "metadata": {
        "id": "2ydJ6HH7rQj9"
      }
    },
    {
      "cell_type": "code",
      "source": [
        "import networkx as nx\n",
        "import matplotlib.pyplot as plt\n",
        "\n",
        "# Step 1: Create a MultiGraph\n",
        "G = nx.MultiGraph()\n",
        "\n",
        "# Step 2: Add multiple edges between the same pair of nodes\n",
        "G.add_edge('A', 'B', relation='friend')\n",
        "G.add_edge('A', 'B', relation='colleague')\n",
        "G.add_edge('A', 'B', relation='neighbor')\n",
        "\n",
        "G.edges(), G.nodes()\n"
      ],
      "metadata": {
        "colab": {
          "base_uri": "https://localhost:8080/"
        },
        "id": "W-vn4bsi3rN1",
        "outputId": "edd412ff-ba37-48b9-d757-b14fceca5863"
      },
      "execution_count": null,
      "outputs": [
        {
          "output_type": "execute_result",
          "data": {
            "text/plain": [
              "(MultiEdgeDataView([('A', 'B'), ('A', 'B'), ('A', 'B')]), NodeView(('A', 'B')))"
            ]
          },
          "metadata": {},
          "execution_count": 36
        }
      ]
    },
    {
      "cell_type": "code",
      "source": [
        "#Write here code to draw a multigraph"
      ],
      "metadata": {
        "id": "XsJxUUuaiphT"
      },
      "execution_count": null,
      "outputs": []
    },
    {
      "cell_type": "code",
      "source": [],
      "metadata": {
        "id": "qVZMtPPAqsUE"
      },
      "execution_count": null,
      "outputs": []
    },
    {
      "cell_type": "markdown",
      "source": [
        "#Graphs with attributes"
      ],
      "metadata": {
        "id": "3WUQlj0P8SBW"
      }
    },
    {
      "cell_type": "code",
      "source": [
        "# Step 1: Create a graph\n",
        "G = nx.Graph()\n",
        "\n",
        "# Step 2: Add nodes with attributes\n",
        "G.add_node(1, label=\"Alice\", age=25)\n",
        "G.add_node(2, label=\"Bob\", age=30)\n",
        "G.add_node(3, label=\"Carol\", age=22)\n",
        "\n",
        "# Step 3: Add edges with attributes\n",
        "G.add_edge(1, 2, relation=\"friends\", weight=5)\n",
        "G.add_edge(2, 3, relation=\"colleagues\", weight=3)\n",
        "G.add_edge(3, 1, relation=\"neighbors\", weight=2)\n"
      ],
      "metadata": {
        "id": "wd6QjClB7uAC"
      },
      "execution_count": null,
      "outputs": []
    },
    {
      "cell_type": "code",
      "source": [
        "# Step 4: Define layout\n",
        "pos = nx.spring_layout(G, seed=42)\n",
        "\n",
        "# Step 5: Draw nodes with labels\n",
        "nx.draw(G, pos, with_labels=True, node_color='lightgreen', node_size=5000, font_weight='bold')\n",
        "\n",
        "# Step 6: Draw edge labels\n",
        "edge_labels = nx.get_edge_attributes(G, 'relation')\n",
        "nx.draw_networkx_edge_labels(G, pos, edge_labels=edge_labels)\n",
        "\n",
        "# Step 7: Optional - display node attributes\n",
        "node_labels = nx.get_node_attributes(G, 'label')\n",
        "nx.draw_networkx_labels(G, pos, labels=node_labels)\n",
        "\n",
        "# Step 8: Show plot\n",
        "plt.title(\"Graph with Node and Edge Attributes\")\n",
        "plt.axis('off')\n",
        "plt.show()"
      ],
      "metadata": {
        "colab": {
          "base_uri": "https://localhost:8080/",
          "height": 539
        },
        "id": "q4p5n4jd7wbC",
        "outputId": "583cb824-aa4f-4580-bb69-4f9e4f185f67"
      },
      "execution_count": null,
      "outputs": [
        {
          "output_type": "display_data",
          "data": {
            "text/plain": [
              "<Figure size 640x480 with 1 Axes>"
            ],
            "image/png": "[encoded data removed]"
          },
          "metadata": {}
        }
      ]
    },
    {
      "cell_type": "code",
      "source": [],
      "metadata": {
        "id": "_4AuBZmO72BX"
      },
      "execution_count": null,
      "outputs": []
    }
  ]
}