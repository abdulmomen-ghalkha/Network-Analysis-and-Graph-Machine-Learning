{
 "cells": [
  {
   "cell_type": "code",
   "execution_count": 1,
   "metadata": {
    "colab": {
     "base_uri": "https://localhost:8080/"
    },
    "id": "FzRhdAecNcK6",
    "outputId": "1f219078-b54e-41ec-cd9f-eef4048871a5"
   },
   "outputs": [],
   "source": [
    "import matplotlib.pyplot as plt\n",
    "import matplotlib.patches as mpatches\n",
    "import plotly.express as px\n",
    "import pandas as pd\n",
    "import numpy as np\n",
    "import math\n",
    "\n",
    "#!pip install leidenalg python-igraph\n",
    "\n",
    "# graph related library\n",
    "import networkx as nx\n",
    "import leidenalg\n",
    "import igraph as ig\n",
    "import community as community_louvain\n",
    "import networkx.algorithms.community as nx_comm"
   ]
  },
  {
   "cell_type": "code",
   "execution_count": 3,
   "metadata": {
    "id": "Q_ERelHzOI2V"
   },
   "outputs": [],
   "source": [
    "dataset_dir = \"../Lecture_1/data/cora/\"\n",
    "cora = pd.read_csv(dataset_dir + 'cora.cites',\n",
    "                   sep='\\t', header=None,\n",
    "                   names=['node1', 'node2'])\n",
    "\n",
    "# Create graph from edge list\n",
    "cora_network = nx.Graph(cora.values.tolist())\n"
   ]
  },
  {
   "cell_type": "code",
   "execution_count": 4,
   "metadata": {
    "colab": {
     "base_uri": "https://localhost:8080/"
    },
    "id": "usySZ4RpOOdT",
    "outputId": "8389c4f5-73de-4af5-feb3-ff0038e57e99"
   },
   "outputs": [
    {
     "name": "stdout",
     "output_type": "stream",
     "text": [
      "         edges  triangles  paths_len_2\n",
      "35         168        160        13868\n",
      "1033         5          1            9\n",
      "103482       6          2           13\n",
      "103515      11          9           46\n",
      "1050679      4          1            5\n"
     ]
    }
   ],
   "source": [
    "# calculate the 2-node, 3-node graphlets.  and use them as node features\n",
    "\n",
    "import pandas as pd\n",
    "# Function to calculate 2-node and 3-node graphlet counts as node features\n",
    "def graphlet_features(graph):\n",
    "  features = {}\n",
    "\n",
    "  # 2-node graphlets (Edges)\n",
    "  for node in graph.nodes():\n",
    "    features[node] = {'edges': graph.degree[node]} # Degree is the number of edges connected to the node\n",
    "\n",
    "  # 3-node graphlets\n",
    "  # Triangles (Cycles of length 3)\n",
    "  triangles = nx.triangles(graph)\n",
    "  for node, count in triangles.items():\n",
    "      features[node]['triangles'] = count\n",
    "\n",
    "  # Paths of length 2 (Two edges connected at the node)\n",
    "  for node in graph.nodes():\n",
    "      paths_len_2 = 0\n",
    "      for neighbor1 in graph.neighbors(node):\n",
    "          for neighbor2 in graph.neighbors(node):\n",
    "              if neighbor1 != neighbor2 and not graph.has_edge(neighbor1, neighbor2):\n",
    "                  paths_len_2 += 1\n",
    "      # Divide by 2 because each path is counted twice (once for each endpoint)\n",
    "      features[node]['paths_len_2'] = paths_len_2 // 2\n",
    "\n",
    "  return features\n",
    "\n",
    "# Calculate graphlet features for the cora_network\n",
    "cora_graphlet_features = graphlet_features(cora_network)\n",
    "\n",
    "# Convert the features to a DataFrame for easier handling\n",
    "cora_graphlet_features_df = pd.DataFrame.from_dict(cora_graphlet_features, orient='index')\n",
    "\n",
    "# Print the first few rows of the features DataFrame\n",
    "print(cora_graphlet_features_df.head())\n",
    "\n",
    "# Example of how you can use these features (e.g., adding them to the node attributes in the graph)\n",
    "for node, feats in cora_graphlet_features.items():\n",
    "    cora_network.nodes[node].update(feats)\n",
    "\n",
    "# You can now access these features from the graph's nodes\n",
    "# print(cora_network.nodes[0])\n"
   ]
  },
  {
   "cell_type": "markdown",
   "metadata": {
    "id": "GUv9kG_2EJ8m"
   },
   "source": [
    "Use the ORCA algorithm to count higher-degree graphlets efficiently\n",
    "https://github.com/thocevar/orca"
   ]
  }
 ],
 "metadata": {
  "colab": {
   "provenance": []
  },
  "kernelspec": {
   "display_name": "Python 3 (ipykernel)",
   "language": "python",
   "name": "python3"
  },
  "language_info": {
   "codemirror_mode": {
    "name": "ipython",
    "version": 3
   },
   "file_extension": ".py",
   "mimetype": "text/x-python",
   "name": "python",
   "nbconvert_exporter": "python",
   "pygments_lexer": "ipython3",
   "version": "3.9.20"
  }
 },
 "nbformat": 4,
 "nbformat_minor": 4
}
